{
 "cells": [
  {
   "cell_type": "markdown",
   "id": "d5954994-6187-4b69-8a5c-98ddba10b4b5",
   "metadata": {},
   "source": [
    "## Text to speech pipeline\n",
    "\n",
    "Audio generation pipeline from huggingface - https://huggingface.co/docs/transformers/v4.33.0/en/main_classes/pipelines#transformers.TextToAudioPipeline\n",
    "\n",
    "Using bark model for audio generation - https://huggingface.co/suno/bark"
   ]
  },
  {
   "cell_type": "code",
   "execution_count": null,
   "id": "e5552c28-8950-4a44-a2b1-f233a7d4b75a",
   "metadata": {},
   "outputs": [],
   "source": [
    "import warnings\n",
    "\n",
    "warnings.filterwarnings(\"ignore\")\n",
    "\n",
    "from transformers import AutoTokenizer, set_seed\n",
    "import transformers\n",
    "from IPython.display import Audio\n",
    "\n",
    "# To suppress some unwanted warnings that arises\n",
    "from transformers.utils import logging\n",
    "\n",
    "logging.set_verbosity_error()"
   ]
  },
  {
   "cell_type": "code",
   "execution_count": null,
   "id": "5277ee29-53c6-4b38-9b4e-0372b8c79b0f",
   "metadata": {},
   "outputs": [],
   "source": [
    "# Provide the id of the free GPU that you are intented to use\n",
    "# \"auto\" is not yet supported by this pipeline as of transformers v4.33.0\n",
    "gpu_id = 0\n",
    "\n",
    "model = \"suno/bark\"\n",
    "SEED = 42\n",
    "\n",
    "set_seed(SEED)"
   ]
  },
  {
   "cell_type": "code",
   "execution_count": null,
   "id": "185d4f3c-7c3b-4c3f-b534-f31fdadf8d61",
   "metadata": {},
   "outputs": [],
   "source": [
    "# initialise tokeniser to parse the input text\n",
    "tokenizer = AutoTokenizer.from_pretrained(model)\n",
    "\n",
    "# Define a text to speech pipeline\n",
    "pipeline = transformers.pipeline(\n",
    "    \"text-to-audio\",\n",
    "    model=model,\n",
    "    tokenizer=tokenizer,\n",
    "    device=gpu_id,\n",
    ")"
   ]
  },
  {
   "cell_type": "code",
   "execution_count": null,
   "id": "ac87f111-4413-46fe-bfc8-d7c4cfa4888b",
   "metadata": {},
   "outputs": [],
   "source": [
    "input_text = \"\"\"Hey it's AI generated sample audio!\n",
    "Try adding more and more and more and more and more. \n",
    "I had an annoyance with some Pandas operations and someone suggested\n",
    "that upgrading it to the latest version might solve the problem.\n",
    "I updated it from version a to b and it worked!\"\"\"\n",
    "\n",
    "# pass the input through the pipeline\n",
    "output = pipeline(input_text)\n",
    "\n",
    "# extract audio from the output\n",
    "audio = output[\"audio\"]\n",
    "sampling_rate = output[\"sampling_rate\"]"
   ]
  },
  {
   "cell_type": "code",
   "execution_count": null,
   "id": "6863f4fc-add0-476e-a5e5-0902aa33e320",
   "metadata": {},
   "outputs": [],
   "source": [
    "# Option to play the audio\n",
    "Audio(audio, rate=sampling_rate)"
   ]
  },
  {
   "cell_type": "code",
   "execution_count": null,
   "id": "b5c46684-0575-4778-a328-32506dede0fb",
   "metadata": {},
   "outputs": [],
   "source": []
  }
 ],
 "metadata": {
  "kernelspec": {
   "display_name": "py3.10",
   "language": "python",
   "name": "py3.10"
  },
  "language_info": {
   "codemirror_mode": {
    "name": "ipython",
    "version": 3
   },
   "file_extension": ".py",
   "mimetype": "text/x-python",
   "name": "python",
   "nbconvert_exporter": "python",
   "pygments_lexer": "ipython3",
   "version": "3.10.12"
  }
 },
 "nbformat": 4,
 "nbformat_minor": 5
}
