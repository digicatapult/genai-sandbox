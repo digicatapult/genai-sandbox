{
 "cells": [
  {
   "cell_type": "markdown",
   "id": "fef74dc9-2d37-4525-bbee-32a57bb4b2c4",
   "metadata": {},
   "source": [
    "# Stable diffusion pipeline\n",
    "\n",
    "Here is a sample basic [stable diffusion pipeline from huggingface](https://huggingface.co/stabilityai/stable-diffusion-xl-base-1.0).\n",
    "\n",
    "\n",
    "Make sure to close the notebook and stop the kernel as this notebook uses multiple GPUs for image generation."
   ]
  },
  {
   "cell_type": "code",
   "execution_count": null,
   "id": "552e5351-7093-4b95-a024-904bd844db3d",
   "metadata": {},
   "outputs": [],
   "source": [
    "# pip install diffusers invisible_watermark transformers accelerate safetensors"
   ]
  },
  {
   "cell_type": "code",
   "execution_count": null,
   "id": "7634efed-d4cb-4e0d-800f-fce9b7a151c7",
   "metadata": {},
   "outputs": [],
   "source": [
    "from diffusers import DiffusionPipeline\n",
    "import torch"
   ]
  },
  {
   "cell_type": "code",
   "execution_count": null,
   "id": "d3070a49-3bc1-4030-88e7-b13cc796f3e4",
   "metadata": {},
   "outputs": [],
   "source": [
    "DEVICE1 = \"cuda:1\"\n",
    "DEVICE2 = \"cuda:2\"\n",
    "num_images_per_prompt = 2"
   ]
  },
  {
   "cell_type": "code",
   "execution_count": null,
   "id": "eb850c43-bfc6-4f7d-83f7-31bd9724b7db",
   "metadata": {},
   "outputs": [],
   "source": [
    "from diffusers import DiffusionPipeline\n",
    "import torch\n",
    "\n",
    "# load base\n",
    "base = DiffusionPipeline.from_pretrained(\n",
    "    \"stabilityai/stable-diffusion-xl-base-1.0\",\n",
    "    torch_dtype=torch.float16,\n",
    "    variant=\"fp16\",\n",
    "    use_safetensors=True,\n",
    ")\n",
    "\n",
    "\n",
    "# Define how many steps and what % of steps to be run on each experts (80/20) here\n",
    "n_steps = 40\n",
    "high_noise_frac = 0.8"
   ]
  },
  {
   "cell_type": "code",
   "execution_count": null,
   "id": "07e20ff3-6d7d-43de-985d-c243606843c8",
   "metadata": {},
   "outputs": [],
   "source": [
    "prompt = \"An astronaut riding a green horse\"\n",
    "# prompt = \"Photograph of an astronaut riding an orange unicorn\"\n",
    "# prompt = \"A majestic lion jumping from a big stone at night\"\n",
    "# prompt = \"Three ML engineers discussing about stable diffusion\"\n",
    "# prompt = \"A table lamp in the shape of an aeroplane with dim blue light\""
   ]
  },
  {
   "cell_type": "code",
   "execution_count": null,
   "id": "ca2790f1-bfe5-480d-855b-06495355551d",
   "metadata": {},
   "outputs": [],
   "source": [
    "torch.cuda.empty_cache()\n",
    "\n",
    "# run both experts\n",
    "base = base.to(DEVICE1)\n",
    "base_image = base(\n",
    "    prompt=prompt,\n",
    "    num_inference_steps=n_steps,\n",
    "    denoising_end=high_noise_frac,\n",
    "    output_type=\"latent\",\n",
    "    num_images_per_prompt=num_images_per_prompt,\n",
    "    height=1024,\n",
    "    width=1024,\n",
    ").images"
   ]
  },
  {
   "cell_type": "code",
   "execution_count": null,
   "id": "eb900fc4-8cb8-4932-a9ec-48bb8e52aff2",
   "metadata": {},
   "outputs": [],
   "source": [
    "# load refiner\n",
    "refiner = DiffusionPipeline.from_pretrained(\n",
    "    \"stabilityai/stable-diffusion-xl-refiner-1.0\",\n",
    "    text_encoder_2=base.text_encoder_2,\n",
    "    vae=base.vae,\n",
    "    torch_dtype=torch.float16,\n",
    "    use_safetensors=True,\n",
    "    variant=\"fp16\",\n",
    ")"
   ]
  },
  {
   "cell_type": "code",
   "execution_count": null,
   "id": "bdf2a3a3-1291-4289-9444-26ed48f6fdea",
   "metadata": {},
   "outputs": [],
   "source": [
    "image = base_image.to(DEVICE2)\n",
    "refiner = refiner.to(DEVICE2)\n",
    "\n",
    "image = refiner(\n",
    "    prompt=prompt,\n",
    "    num_inference_steps=n_steps,\n",
    "    denoising_start=high_noise_frac,\n",
    "    image=image,\n",
    "    num_images_per_prompt=num_images_per_prompt,\n",
    ").images"
   ]
  },
  {
   "cell_type": "code",
   "execution_count": null,
   "id": "ae7723ff-99e2-4e30-98a7-3fdfce27d299",
   "metadata": {},
   "outputs": [],
   "source": [
    "torch.cuda.empty_cache()"
   ]
  },
  {
   "cell_type": "code",
   "execution_count": null,
   "id": "3583809c-7915-4152-946c-39296e90212e",
   "metadata": {},
   "outputs": [],
   "source": [
    "image[0].resize((512, 512))"
   ]
  },
  {
   "cell_type": "code",
   "execution_count": null,
   "id": "6b9871a2-f9d6-4b00-9b1e-6945a0c52319",
   "metadata": {},
   "outputs": [],
   "source": [
    "image[1].resize((512, 512))"
   ]
  },
  {
   "cell_type": "code",
   "execution_count": null,
   "id": "a875658f-a3b3-4754-8a82-e343c249bf37",
   "metadata": {},
   "outputs": [],
   "source": []
  },
  {
   "cell_type": "code",
   "execution_count": null,
   "id": "61cbeeba-2e0e-49e1-a430-2bdd07deab2b",
   "metadata": {},
   "outputs": [],
   "source": []
  }
 ],
 "metadata": {
  "kernelspec": {
   "display_name": "langchain",
   "language": "python",
   "name": "langchain"
  },
  "language_info": {
   "codemirror_mode": {
    "name": "ipython",
    "version": 3
   },
   "file_extension": ".py",
   "mimetype": "text/x-python",
   "name": "python",
   "nbconvert_exporter": "python",
   "pygments_lexer": "ipython3",
   "version": "3.10.10"
  }
 },
 "nbformat": 4,
 "nbformat_minor": 5
}
