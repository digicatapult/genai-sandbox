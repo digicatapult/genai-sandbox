{
 "cells": [
  {
   "cell_type": "markdown",
   "id": "a3b93c92-dfcd-4d5f-adde-6a0c88a0cb4b",
   "metadata": {},
   "source": [
    "# Multi-lingual many-to-many Translation\n",
    "\n",
    "[mBART](https://huggingface.co/facebook/mbart-large-50-many-to-one-mmt) is a machine translation model.\n",
    "\n",
    "It was introduced in Multilingual Translation with Extensible Multilingual Pretraining and Finetuning paper. The model can translate directly between any pair of 50 languages.\n",
    "\n",
    "\n",
    "This example does not use huggingface `pipeline`."
   ]
  },
  {
   "cell_type": "code",
   "execution_count": null,
   "id": "b0896460-5d63-4959-b2c8-4083155ae16a",
   "metadata": {},
   "outputs": [],
   "source": [
    "import warnings\n",
    "\n",
    "warnings.filterwarnings(\"ignore\")"
   ]
  },
  {
   "cell_type": "code",
   "execution_count": null,
   "id": "600acff1-55bf-4a70-8bec-c112f180a50b",
   "metadata": {},
   "outputs": [],
   "source": [
    "from transformers import AutoTokenizer, AutoModelForSeq2SeqLM"
   ]
  },
  {
   "cell_type": "code",
   "execution_count": null,
   "id": "d6fa5397-e2bb-4fc1-92ea-329764f38098",
   "metadata": {},
   "outputs": [],
   "source": [
    "# Provide the id of the free GPU that you are intented to use\n",
    "# \"auto\" option will not work here, so specify the GPU id\n",
    "# Setting `gpu_id = None` will not use any GPU\n",
    "gpu_id = 0\n",
    "\n",
    "model = \"facebook/mbart-large-50-many-to-many-mmt\""
   ]
  },
  {
   "cell_type": "code",
   "execution_count": null,
   "id": "2087d8a8-d930-456e-8a9e-bfbcc8ee42b1",
   "metadata": {},
   "outputs": [],
   "source": [
    "# Get the pre-trained model and load it to the GPU\n",
    "translator = AutoModelForSeq2SeqLM.from_pretrained(model).to(gpu_id)\n",
    "\n",
    "# To get a list of all available language codes\n",
    "available_language_codes = list(\n",
    "    AutoTokenizer.from_pretrained(model).lang_code_to_id.keys()\n",
    ")"
   ]
  },
  {
   "cell_type": "code",
   "execution_count": null,
   "id": "145b0aaa-7ad2-4423-b796-118d5595034a",
   "metadata": {},
   "outputs": [],
   "source": [
    "def translate(text: str, src_lang: str, trgt_lang: str) -> list[str]:\n",
    "    \"\"\"Translates given text from source to target language.\n",
    "\n",
    "    Args:\n",
    "        text (str): Input text to be translated\n",
    "        src_lang (str): Source language code. Eg: 'zh_CN'.\n",
    "        trgt_lang (str): Target language code. Eg 'en_XX'.\n",
    "                        Check `available_language_codes` for complete list\n",
    "    Returns:\n",
    "        list[str]: A list containing the translated text in target language.\n",
    "\n",
    "    \"\"\"\n",
    "    # Check if the language codes are valid\n",
    "    assert (\n",
    "        src_lang in available_language_codes and trgt_lang in available_language_codes\n",
    "    ), f\"'src_lang' and 'trgt_lang' must be one of {available_language_codes}\"\n",
    "\n",
    "    # Define a tokeniser for tokenising the source language\n",
    "    tokenizer = AutoTokenizer.from_pretrained(model, src_lang=src_lang)\n",
    "\n",
    "    # Tokenise\n",
    "    encoded_text = tokenizer(text, return_tensors=\"pt\").to(gpu_id)\n",
    "\n",
    "    # Generate translated tokens\n",
    "    generated_tokens = translator.generate(\n",
    "        **encoded_text, forced_bos_token_id=tokenizer.lang_code_to_id[trgt_lang]\n",
    "    )\n",
    "    # Decode tokens to words and sentences\n",
    "    translated = tokenizer.batch_decode(generated_tokens, skip_special_tokens=True)\n",
    "\n",
    "    return translated"
   ]
  },
  {
   "cell_type": "markdown",
   "id": "a8c73bd3-b4a6-4af4-9d2c-0fe374b53a09",
   "metadata": {},
   "source": [
    "Note: \n",
    "\n",
    "Since we are using a Many-to-many multilingual machine translation (50 languages), we need to force the target language id as the first generated token to translate to the target language. \n",
    "\n",
    "For this, we need to set the BOS (Beginning of sentence token) token. Set the `forced_bos_token_id` to the `trgt_lang` in the generate method to translate.:"
   ]
  },
  {
   "cell_type": "code",
   "execution_count": null,
   "id": "3a3298fa-9862-41f6-8806-faeb494d32f8",
   "metadata": {},
   "outputs": [],
   "source": [
    "# input text in multiple languages\n",
    "en_text = (\n",
    "    \"Do not meddle in the affairs of wizards, for they are subtle and quick to anger.\"\n",
    ")\n",
    "chinese_text = \"不要插手巫師的事務, 因為他們是微妙的, 很快就會發怒.\"\n",
    "finnish_text = (\n",
    "    \"Älä sekaannu velhojen asioihin, sillä ne ovat hienovaraisia ja nopeasti vihaisia.\"\n",
    ")\n",
    "hindi_text = \"तंत्रिकाओं के कार्यों को हाथ में न डालें, क्योंकि वे सूक्ष्म होते हैं, वे जल्दी उग्र होते हैं.\""
   ]
  },
  {
   "cell_type": "code",
   "execution_count": null,
   "id": "75127744-d58b-477f-9109-ad0f189dc3ac",
   "metadata": {},
   "outputs": [],
   "source": [
    "# Chinese to English\n",
    "translate(chinese_text, src_lang=\"zh_CN\", trgt_lang=\"en_XX\")"
   ]
  },
  {
   "cell_type": "code",
   "execution_count": null,
   "id": "ffc40878-202b-4475-b52a-aa0973d08d22",
   "metadata": {},
   "outputs": [],
   "source": [
    "# Finnish to English\n",
    "translate(finnish_text, src_lang=\"fi_FI\", trgt_lang=\"en_XX\")"
   ]
  },
  {
   "cell_type": "code",
   "execution_count": null,
   "id": "08f66bba-b037-4fa9-a109-b6a00d28fcc2",
   "metadata": {},
   "outputs": [],
   "source": [
    "# Chinese to Hindi\n",
    "translate(chinese_text, src_lang=\"zh_CN\", trgt_lang=\"hi_IN\")"
   ]
  },
  {
   "cell_type": "code",
   "execution_count": null,
   "id": "e930bc61-86d7-4210-9d5d-294fb74ce329",
   "metadata": {},
   "outputs": [],
   "source": [
    "# Hindi to English\n",
    "translate(hindi_text, src_lang=\"hi_IN\", trgt_lang=\"en_XX\")"
   ]
  },
  {
   "cell_type": "code",
   "execution_count": null,
   "id": "57ca93e4-621d-444d-9c55-47ed3ab1b0c3",
   "metadata": {},
   "outputs": [],
   "source": []
  }
 ],
 "metadata": {
  "kernelspec": {
   "display_name": "py3.10",
   "language": "python",
   "name": "py3.10"
  },
  "language_info": {
   "codemirror_mode": {
    "name": "ipython",
    "version": 3
   },
   "file_extension": ".py",
   "mimetype": "text/x-python",
   "name": "python",
   "nbconvert_exporter": "python",
   "pygments_lexer": "ipython3",
   "version": "3.10.12"
  }
 },
 "nbformat": 4,
 "nbformat_minor": 5
}
