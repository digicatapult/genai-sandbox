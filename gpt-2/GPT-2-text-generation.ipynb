{
 "cells": [
  {
   "cell_type": "markdown",
   "id": "6d001ee3-2c5a-4747-a6fa-b255b9e870b8",
   "metadata": {},
   "source": [
    "# A simple GPT-2 based text generation model\n",
    "\n",
    "This pipeline is based on a text generation model, not instruction based. It neither follows instructions, nor answers to questions. Instead it generates text which is continuation of the input prompt.\n",
    "\n",
    "Think about where this can be used?\n",
    "\n",
    "To represent a sentence or paragraph in a vector form preserving its semantics so that it can be used for other downstream tasks like sentence classification, sentiment prediction, etc."
   ]
  },
  {
   "cell_type": "code",
   "execution_count": null,
   "id": "48a4401a-9fd1-4a53-85f5-0023a01b89c6",
   "metadata": {},
   "outputs": [],
   "source": [
    "from warnings import filterwarnings\n",
    "\n",
    "filterwarnings(\"ignore\")\n",
    "\n",
    "from transformers import pipeline, set_seed"
   ]
  },
  {
   "cell_type": "code",
   "execution_count": null,
   "id": "6857a22b-6641-4b9f-bc3a-5a94bf2199b7",
   "metadata": {},
   "outputs": [],
   "source": [
    "DEVICE = 0  # Manually selecting a GPU id\n",
    "SEED = 42\n",
    "MODEL = \"gpt2-medium\"  # Uses 2.5GB GPU"
   ]
  },
  {
   "cell_type": "code",
   "execution_count": null,
   "id": "5b5d8753-772f-4d90-b240-81c00e8ad564",
   "metadata": {},
   "outputs": [],
   "source": [
    "generator = pipeline(\"text-generation\", model=MODEL, device=DEVICE)\n",
    "set_seed(SEED)"
   ]
  },
  {
   "cell_type": "code",
   "execution_count": null,
   "id": "6fbcd969-d2b4-4d27-959d-9e71ea52eb77",
   "metadata": {},
   "outputs": [],
   "source": [
    "text_input = \"Hello, I'm a language model,\"\n",
    "generator(text_input, max_length=30, num_return_sequences=5)"
   ]
  },
  {
   "cell_type": "code",
   "execution_count": null,
   "id": "cd11e880-fb74-430d-b4dd-161e0f9a3cea",
   "metadata": {},
   "outputs": [],
   "source": []
  },
  {
   "cell_type": "markdown",
   "id": "cdaa26a5-4b97-4f91-90f8-fd5d9c8534f2",
   "metadata": {},
   "source": [
    "Experiment with the `text_input`, `max_length`, and `num_return_sequences` and observe the output.\n",
    "\n",
    "Is it giving the same result everytime you run with the same `text_input`? What if you restart the kernel and rerun? What if you didn't set the seed?"
   ]
  },
  {
   "cell_type": "code",
   "execution_count": null,
   "id": "d8c8d1af-6a3e-498e-a3c5-b9987ef573ae",
   "metadata": {},
   "outputs": [],
   "source": []
  }
 ],
 "metadata": {
  "kernelspec": {
   "display_name": "py3.10",
   "language": "python",
   "name": "py3.10"
  },
  "language_info": {
   "codemirror_mode": {
    "name": "ipython",
    "version": 3
   },
   "file_extension": ".py",
   "mimetype": "text/x-python",
   "name": "python",
   "nbconvert_exporter": "python",
   "pygments_lexer": "ipython3",
   "version": "3.10.12"
  }
 },
 "nbformat": 4,
 "nbformat_minor": 5
}
